{
  "nbformat": 4,
  "nbformat_minor": 0,
  "metadata": {
    "colab": {
      "provenance": []
    },
    "kernelspec": {
      "name": "python3",
      "display_name": "Python 3"
    },
    "language_info": {
      "name": "python"
    }
  },
  "cells": [
    {
      "cell_type": "code",
      "execution_count": 1,
      "metadata": {
        "colab": {
          "base_uri": "https://localhost:8080/"
        },
        "id": "2E2jeaj1I0XN",
        "outputId": "e5bd68a4-98f3-4495-a585-b0726a6dd9e7",
        "collapsed": true
      },
      "outputs": [
        {
          "output_type": "stream",
          "name": "stdout",
          "text": [
            "Requirement already satisfied: geopandas in /usr/local/lib/python3.12/dist-packages (1.1.1)\n",
            "Collecting pydeck\n",
            "  Downloading pydeck-0.9.1-py2.py3-none-any.whl.metadata (4.1 kB)\n",
            "Requirement already satisfied: numpy>=1.24 in /usr/local/lib/python3.12/dist-packages (from geopandas) (2.0.2)\n",
            "Requirement already satisfied: pyogrio>=0.7.2 in /usr/local/lib/python3.12/dist-packages (from geopandas) (0.11.1)\n",
            "Requirement already satisfied: packaging in /usr/local/lib/python3.12/dist-packages (from geopandas) (25.0)\n",
            "Requirement already satisfied: pandas>=2.0.0 in /usr/local/lib/python3.12/dist-packages (from geopandas) (2.2.2)\n",
            "Requirement already satisfied: pyproj>=3.5.0 in /usr/local/lib/python3.12/dist-packages (from geopandas) (3.7.2)\n",
            "Requirement already satisfied: shapely>=2.0.0 in /usr/local/lib/python3.12/dist-packages (from geopandas) (2.1.2)\n",
            "Requirement already satisfied: jinja2>=2.10.1 in /usr/local/lib/python3.12/dist-packages (from pydeck) (3.1.6)\n",
            "Requirement already satisfied: MarkupSafe>=2.0 in /usr/local/lib/python3.12/dist-packages (from jinja2>=2.10.1->pydeck) (3.0.3)\n",
            "Requirement already satisfied: python-dateutil>=2.8.2 in /usr/local/lib/python3.12/dist-packages (from pandas>=2.0.0->geopandas) (2.9.0.post0)\n",
            "Requirement already satisfied: pytz>=2020.1 in /usr/local/lib/python3.12/dist-packages (from pandas>=2.0.0->geopandas) (2025.2)\n",
            "Requirement already satisfied: tzdata>=2022.7 in /usr/local/lib/python3.12/dist-packages (from pandas>=2.0.0->geopandas) (2025.2)\n",
            "Requirement already satisfied: certifi in /usr/local/lib/python3.12/dist-packages (from pyogrio>=0.7.2->geopandas) (2025.10.5)\n",
            "Requirement already satisfied: six>=1.5 in /usr/local/lib/python3.12/dist-packages (from python-dateutil>=2.8.2->pandas>=2.0.0->geopandas) (1.17.0)\n",
            "Downloading pydeck-0.9.1-py2.py3-none-any.whl (6.9 MB)\n",
            "\u001b[2K   \u001b[90m━━━━━━━━━━━━━━━━━━━━━━━━━━━━━━━━━━━━━━━━\u001b[0m \u001b[32m6.9/6.9 MB\u001b[0m \u001b[31m51.1 MB/s\u001b[0m eta \u001b[36m0:00:00\u001b[0m\n",
            "\u001b[?25hInstalling collected packages: pydeck\n",
            "Successfully installed pydeck-0.9.1\n",
            "W: Skipping acquire of configured file 'main/source/Sources' as repository 'https://r2u.stat.illinois.edu/ubuntu jammy InRelease' does not seem to provide it (sources.list entry misspelt?)\n",
            "Reading package lists... Done\n",
            "Building dependency tree... Done\n",
            "Reading state information... Done\n",
            "git is already the newest version (1:2.34.1-1ubuntu1.15).\n",
            "0 upgraded, 0 newly installed, 0 to remove and 40 not upgraded.\n"
          ]
        }
      ],
      "source": [
        "!pip install geopandas pydeck #installs the geopandas and pydeck\n",
        "!apt-get update -qq && apt-get install -y git #updates the Debian-Ubuntu package lists quietly\n"
      ]
    },
    {
      "cell_type": "code",
      "source": [
        "import pandas as pd #imports the pandas library and gives it the alias pd\n",
        "import os #imports the Python os module\n",
        "import pydeck as pdk #pydeck library with pdk alias"
      ],
      "metadata": {
        "id": "MHWoNLOrynyD"
      },
      "execution_count": 2,
      "outputs": []
    },
    {
      "cell_type": "code",
      "source": [
        "data_url = \"https://raw.githubusercontent.com/ajduberstein/geo_datasets/master/small_waterfall.csv\" #assigns a URL of a CSV file on github which is used as the source\n",
        "df = pd.read_csv(data_url) #reads the CSV located at data_url into a pandas DataFrame"
      ],
      "metadata": {
        "id": "U_Js-ConJGWY"
      },
      "execution_count": 3,
      "outputs": []
    },
    {
      "cell_type": "code",
      "source": [
        "point_cloud = pdk.Layer(         #layer content inputs\n",
        "    \"PointCloudLayer\",           #visualization layer\n",
        "    data=data_url,               #defined variable, source of the dataset\n",
        "    get_position=[\"x\", \"y\", \"z\"],#expected column values from csv containing lat, long, elev\n",
        "    get_color=[\"r\", \"g\", \"b\"],   #expected column values from csv containing colors for points\n",
        "    pickable=True,               #definining the pickable as true to make the output interactive, user can hover on point to get details\n",
        "    auto_highlight=True,         #automatic highlighting when the user hovers over a point.\n",
        "    point_size=2                 #sets the radius or pixel size of each rendered point\n",
        ")\n"
      ],
      "metadata": {
        "id": "lbQ6Qa0VJGMi"
      },
      "execution_count": 4,
      "outputs": []
    },
    {
      "cell_type": "code",
      "source": [
        "center = [float(df[\"x\"].mean()),\n",
        "          float(df[\"y\"].mean()),\n",
        "          float(df[\"z\"].mean())]\n",
        "view_state = pdk.ViewState(\n",
        "    target=center,\n",
        "    rotation_x=0,\n",
        "    rotation_orbit=30,\n",
        "    zoom=5,\n",
        "    controller=True)\n",
        "\n",
        "#Creates a pydeck.View object of type \"OrbitView\" with\n",
        "#controller=True and assigns it to variable view. OrbitView allows\n",
        "#rotating around a central point in 3D (used for point clouds)\n",
        "view = pdk.View(type=\"OrbitView\", controller=True)\n",
        "#constructs a pydeck.Deck object named deck\n",
        "#layers=[point_cloud] --------------provides a list of layer objects to render.\n",
        "#initial_view_state=view_state------uses the ViewState created earlier to set the initial camera.\n",
        "#views=[view]-----------------------attaches the OrbitView to the Deck.\n",
        "deck = pdk.Deck(layers=[point_cloud], initial_view_state=view_state, views=[view])"
      ],
      "metadata": {
        "id": "vcMENstIJGJu"
      },
      "execution_count": 5,
      "outputs": []
    },
    {
      "cell_type": "code",
      "source": [
        "\n",
        "deck.to_html(\"point_cloud_visualization.html\") #Exports the pydeck deck visualization to a standalone HTML"
      ],
      "metadata": {
        "colab": {
          "base_uri": "https://localhost:8080/",
          "height": 500
        },
        "id": "FWRwofDDK3LS",
        "outputId": "89114f5f-2a1c-48d8-e730-d47dc8bd758c"
      },
      "execution_count": 6,
      "outputs": [
        {
          "output_type": "display_data",
          "data": {
            "text/plain": [
              "<IPython.core.display.Javascript object>"
            ],
            "application/javascript": [
              "google.colab.output.setIframeHeight(500, true, {minHeight: 500, maxHeight: 500})"
            ]
          },
          "metadata": {}
        },
        {
          "output_type": "display_data",
          "data": {
            "text/plain": [
              "<IPython.core.display.HTML object>"
            ],
            "text/html": [
              "<!DOCTYPE html>\n",
              "<html>\n",
              "  <head>\n",
              "    <meta http-equiv=\"content-type\" content=\"text/html; charset=UTF-8\" />\n",
              "    <title>pydeck</title>\n",
              "        <script src=\"https://api.tiles.mapbox.com/mapbox-gl-js/v1.13.0/mapbox-gl.js\"></script>\n",
              "        <link rel=\"stylesheet\" href=\"https://maxcdn.bootstrapcdn.com/bootstrap/3.2.0/css/bootstrap-theme.min.css\" />\n",
              "    <link rel=\"stylesheet\" href=\"https://maxcdn.bootstrapcdn.com/font-awesome/4.6.3/css/font-awesome.min.css\" />\n",
              "    <script src='https://cdn.jsdelivr.net/npm/@deck.gl/jupyter-widget@~9.0.*/dist/index.js'></script>\n",
              "    <style>\n",
              "    body {\n",
              "  margin: 0;\n",
              "  padding: 0;\n",
              "  overflow: hidden;\n",
              "}\n",
              "\n",
              "#deck-container {\n",
              "  width: 100vw;\n",
              "  height: 100vh;\n",
              "}\n",
              "\n",
              "#deck-container canvas {\n",
              "  z-index: 1;\n",
              "  background: none;\n",
              "}\n",
              "    </style>\n",
              "  </head>\n",
              "  <body>\n",
              "    <div id=\"deck-container\">\n",
              "    </div>\n",
              "  </body>\n",
              "  <script>\n",
              "    const container = document.getElementById('deck-container');\n",
              "    const jsonInput = {\n",
              "  \"initialViewState\": {\n",
              "    \"controller\": true,\n",
              "    \"rotationOrbit\": 30,\n",
              "    \"rotationX\": 0,\n",
              "    \"target\": [\n",
              "      0.6562291561182103,\n",
              "      -0.42111643013644856,\n",
              "      319.72425513820747\n",
              "    ],\n",
              "    \"zoom\": 5\n",
              "  },\n",
              "  \"layers\": [\n",
              "    {\n",
              "      \"@@type\": \"PointCloudLayer\",\n",
              "      \"autoHighlight\": true,\n",
              "      \"data\": \"https://raw.githubusercontent.com/ajduberstein/geo_datasets/master/small_waterfall.csv\",\n",
              "      \"getColor\": \"@@=[r, g, b]\",\n",
              "      \"getPosition\": \"@@=[x, y, z]\",\n",
              "      \"id\": \"8b367826-957f-4688-8dc8-5cd7f1067b88\",\n",
              "      \"pickable\": true,\n",
              "      \"pointSize\": 2\n",
              "    }\n",
              "  ],\n",
              "  \"mapProvider\": \"carto\",\n",
              "  \"mapStyle\": \"https://basemaps.cartocdn.com/gl/dark-matter-gl-style/style.json\",\n",
              "  \"views\": [\n",
              "    {\n",
              "      \"@@type\": \"OrbitView\",\n",
              "      \"controller\": true\n",
              "    }\n",
              "  ]\n",
              "};\n",
              "    const tooltip = true;\n",
              "    const customLibraries = null;\n",
              "    const configuration = null;\n",
              "\n",
              "    const deckInstance = createDeck({\n",
              "                  container,\n",
              "      jsonInput,\n",
              "      tooltip,\n",
              "      customLibraries,\n",
              "      configuration\n",
              "    });\n",
              "\n",
              "  </script>\n",
              "</html>"
            ]
          },
          "metadata": {}
        }
      ]
    }
  ]
}